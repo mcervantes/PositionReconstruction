{
 "cells": [
  {
   "cell_type": "code",
   "execution_count": 1,
   "metadata": {
    "collapsed": false
   },
   "outputs": [],
   "source": [
    "import ROOT\n",
    "import re\n",
    "import numpy as np\n",
    "from scipy.stats import gaussian_kde\n",
    "import matplotlib   # Needed for font size spec, color map transformation function bla bla\n",
    "import matplotlib.pyplot as plt\n",
    "from matplotlib import cm\n",
    "import math\n",
    "from matplotlib.colors import LogNorm\n",
    "%matplotlib inline\n",
    "matplotlib.rc('font', size=16)\n",
    "plt.rcParams['figure.figsize'] = (12.0, 10.0) # resize plots\n",
    "\n",
    "def load_event_class(filename):\n",
    "    \"\"\"Read a C++ root class definition, generating dictionaries for vectors of classes\"\"\"\n",
    "    # Find the classes defined in the file\n",
    "    classnames = []\n",
    "    with open(filename, 'r') as classfile:\n",
    "        for line in classfile.readlines():\n",
    "            m = re.match(r'class (\\w*) ', line)\n",
    "            if m:\n",
    "                classnames.append(m.group(1))\n",
    "\n",
    "    # Load the file in ROOT\n",
    "    ROOT.gROOT.ProcessLine('.L %s++' % filename)\n",
    "\n",
    "    # Build the required dictionaries for the vectors of classes\n",
    "    for name in classnames:\n",
    "        ROOT.gInterpreter.GenerateDictionary(\"vector<%s>\" % name, filename)\n",
    "        \n",
    "# Load the pax event class. You must provide this in the same directory as this notebook!\n",
    "# TODO: This crashes if you do it more than once!\n",
    "load_event_class('pax_event_class_410.cpp')"
   ]
  },
  {
   "cell_type": "code",
   "execution_count": 2,
   "metadata": {
    "collapsed": false
   },
   "outputs": [],
   "source": [
    "# Load the file, get the tree\n",
    "datatype = 'AmBe'\n",
    "#f = ROOT.TFile(\"data/xe100_120402_2000.root\") #AmBe\n",
    "f = ROOT.TFile(\"data/xe100_120326_0952.root\") #Dark MAtter\n",
    "t = f.Get('tree')\n",
    "# If you get \"'TObject' object has no attribute 'GetEntries'\" here,\n",
    "# we renamed the tree to T1 or TPax or something\n",
    "n_events = t.GetEntries()"
   ]
  },
  {
   "cell_type": "code",
   "execution_count": null,
   "metadata": {
    "collapsed": false
   },
   "outputs": [],
   "source": [
    "# Make scatter plot of\n",
    "#   - s2 area vs s2 width\n",
    "#   - with color the s2 top hitpattern goodness of fit (used to be known as \"the chi2\")\n",
    "#   - using only events with at least one s1\n",
    "#\n",
    "# Probably this can be done in many much simpler ways\n",
    "# This is just a proof of concept\n",
    "\n",
    "#Lists for plotting\n",
    "pks_areas = []\n",
    "pks_widths = []\n",
    "s1_class = []\n",
    "s2_class= []\n",
    "coin_class = []\n",
    "other_class = []\n",
    "\n",
    "inspect = open('inspect_event.txt', 'w')\n",
    "\n",
    "for event_i in range(n_events):\n",
    "    t.GetEntry(event_i)\n",
    "    event = t.events\n",
    "    peaks = event.peaks\n",
    "    \n",
    "    if len(event.s1s)==0:\n",
    "        continue\n",
    "            \n",
    "    \n",
    "    for pk in peaks:\n",
    "        if pk.type in ('noise', 'lone_hit'):\n",
    "            continue\n",
    "        pks_areas.append(pk.area)\n",
    "        pks_widths.append(pk.range_area_decile[5])\n",
    "        if pk.type == 's1':\n",
    "            s1_class.append([pk.area,pk.range_area_decile[5]])\n",
    "        elif pk.type == 's2':\n",
    "            s2_class.append([pk.area,pk.range_area_decile[5]])\n",
    "        elif pk.type == 'coincidence':\n",
    "            coin_class.append([pk.area,pk.range_area_decile[5]])\n",
    "        else:\n",
    "            other_class.append([pk.area, pk.range_area_decile[5]])\n",
    "            inspect.write(str(event.dataset_name) + '\\t' + str(event.event_number) + '\\n')\n",
    "            \n",
    "        \n",
    "inspect.close()"
   ]
  },
  {
   "cell_type": "code",
   "execution_count": null,
   "metadata": {
    "collapsed": false
   },
   "outputs": [],
   "source": [
    "peak_classes = {'s1': s1_class, 's2':s2_class, 'coincidence':coin_class, 'other': other_class}\n",
    "colors = {'s1': 'blue', 's2':'red', 'coincidence':'green', 'other': 'magenta'}\n",
    "fig, ax = plt.subplots()\n",
    "ax.margins(0.05) # Optional, just adds 5% padding to the autoscaling\n",
    "for key in peak_classes:\n",
    "    area=np.array(peak_classes[key])[0:len(peak_classes[key]),0:1]\n",
    "    width = np.array(peak_classes[key])[0:len(peak_classes[key]),1:2]\n",
    "    ax.plot(area, width, marker='.', color=colors[key], linestyle='', ms=12, label=key, alpha=0.6)\n",
    "ax.legend()\n",
    "plt.xlabel('peak area')\n",
    "plt.ylabel('Peak width (50% area, ns)')\n",
    "plt.xscale('log')\n",
    "plt.yscale('log')\n",
    "plt.ylim(10**0, 10**5)\n",
    "plt.show()"
   ]
  },
  {
   "cell_type": "code",
   "execution_count": null,
   "metadata": {
    "collapsed": false
   },
   "outputs": [],
   "source": [
    "import pickle\n",
    "with open('peaks_clasification.p', 'wb+') as f:\n",
    "    pickle.dump(peak_classes, f)\n"
   ]
  },
  {
   "cell_type": "code",
   "execution_count": null,
   "metadata": {
    "collapsed": true
   },
   "outputs": [],
   "source": [
    "ak = area=np.array(peak_classes['s1'])[0:len(peak_classes['s1']),0:1]\n",
    "wk= width = np.array(peak_classes['s1'])[0:len(peak_classes['s1']),1:2]\n",
    "a = np.asarray(pks_areas)\n",
    "w = np.asarray(pks_widths)"
   ]
  },
  {
   "cell_type": "markdown",
   "metadata": {},
   "source": [
    "# Clasification"
   ]
  },
  {
   "cell_type": "code",
   "execution_count": null,
   "metadata": {
    "collapsed": true
   },
   "outputs": [],
   "source": [
    "outpath = '/home/mayra/Documents/XENON1T/XeAnalysisScripts/peak_classification/plots/'"
   ]
  },
  {
   "cell_type": "code",
   "execution_count": null,
   "metadata": {
    "collapsed": false
   },
   "outputs": [],
   "source": [
    "\n",
    "abins =10**np.linspace(0.1, 6, 200)\n",
    "wbins =10**np.linspace(0,5, 200)\n",
    "counts, _, _ = np.histogram2d(w, a, bins=(wbins, abins))  \n",
    "fig, ax = plt.subplots()\n",
    "cf=ax.pcolormesh(abins, wbins,counts, norm=LogNorm(), alpha=0.7, cmap=cm.coolwarm)\n",
    "ax.set_xscale('log')\n",
    "ax.set_yscale('log')\n",
    "plt.colorbar(cf)\n",
    "plt.xlabel('peak area ')\n",
    "plt.ylabel('Peak width (50% area, ns)')\n",
    "ax = plt.gca()\n",
    "r = matplotlib.patches.Rectangle((50, 0),10**6.1 ,100 , color='blue', alpha=0.3) \n",
    "r2 = matplotlib.patches.Rectangle((50, 250),10**6.1 ,10**5.1 , color='red', alpha=0.3) \n",
    "r3 = matplotlib.patches.Rectangle((0, 0),50, 75 , color='blue', alpha=0.3) \n",
    "r4 = matplotlib.patches.Rectangle((5, 100),45 ,10**5 , color='red', alpha=0.3)\n",
    "r5 = matplotlib.patches.Rectangle((0, 75),5,10**5 , color='green', alpha=0.3)\n",
    "ax.add_artist(r)\n",
    "ax.add_artist(r2)\n",
    "ax.add_artist(r3)\n",
    "ax.add_artist(r4)\n",
    "ax.add_artist(r5)\n",
    "plt.savefig(outpath+'peak_classif0_DM.png')\n",
    "#plt.show()"
   ]
  },
  {
   "cell_type": "markdown",
   "metadata": {
    "collapsed": true
   },
   "source": [
    "# Classified by ClassifyPeaks:\n",
    "# blue = S1, Red= S2, Green = coicidence, other = unknown"
   ]
  },
  {
   "cell_type": "code",
   "execution_count": null,
   "metadata": {
    "collapsed": true
   },
   "outputs": [],
   "source": []
  }
 ],
 "metadata": {
  "kernelspec": {
   "display_name": "Python 3",
   "language": "python",
   "name": "python3"
  },
  "language_info": {
   "codemirror_mode": {
    "name": "ipython",
    "version": 3
   },
   "file_extension": ".py",
   "mimetype": "text/x-python",
   "name": "python",
   "nbconvert_exporter": "python",
   "pygments_lexer": "ipython3",
   "version": "3.4.3"
  }
 },
 "nbformat": 4,
 "nbformat_minor": 0
}
